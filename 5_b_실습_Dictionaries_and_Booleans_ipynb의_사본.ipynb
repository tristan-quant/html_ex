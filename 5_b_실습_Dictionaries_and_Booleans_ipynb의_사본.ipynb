{
  "cells": [
    {
      "cell_type": "markdown",
      "metadata": {
        "id": "view-in-github",
        "colab_type": "text"
      },
      "source": [
        "<a href=\"https://colab.research.google.com/github/tristan-quant/html_ex/blob/main/5_b_%EC%8B%A4%EC%8A%B5_Dictionaries_and_Booleans_ipynb%EC%9D%98_%EC%82%AC%EB%B3%B8.ipynb\" target=\"_parent\"><img src=\"https://colab.research.google.com/assets/colab-badge.svg\" alt=\"Open In Colab\"/></a>"
      ]
    },
    {
      "cell_type": "markdown",
      "metadata": {
        "id": "ha0g7aIluaRx"
      },
      "source": [
        "# <font color='red'> *실습* </font>\n",
        "# <font color='red'> DICTIONARIES AND BOOLEANS </font>"
      ]
    },
    {
      "cell_type": "markdown",
      "metadata": {
        "id": "S5Z9c4x-uaRy"
      },
      "source": [
        "# <font color='blue'> 1. 밸류들을 전부 곱한 값을 출력하는 코드를 만드세요. </font>"
      ]
    },
    {
      "cell_type": "code",
      "execution_count": null,
      "metadata": {
        "id": "slvVxSi1uaRz"
      },
      "outputs": [],
      "source": [
        "my_dict = {'data1':500,\n",
        "           'data2':-10,\n",
        "           'data3':300}\n"
      ]
    },
    {
      "cell_type": "code",
      "execution_count": null,
      "metadata": {
        "id": "Ac35pRXVuaR2",
        "outputId": "00e5d8d4-a341-494a-ccde-274da231678e",
        "colab": {
          "base_uri": "https://localhost:8080/"
        }
      },
      "outputs": [
        {
          "output_type": "stream",
          "name": "stdout",
          "text": [
            "-1500000\n"
          ]
        }
      ],
      "source": [
        "result = 1\n",
        "for value in my_dict.values():\n",
        "    result *= value   # result = result * value\n",
        "print(result)"
      ]
    },
    {
      "cell_type": "code",
      "execution_count": null,
      "metadata": {
        "id": "R_XTMi1duaR2"
      },
      "outputs": [],
      "source": []
    },
    {
      "cell_type": "markdown",
      "metadata": {
        "id": "tS_3zBoAuaR2"
      },
      "source": [
        "# <font color='blue'> 2. 각 학생별로, 중간과 기말의 평균점수를 구하세요.  "
      ]
    },
    {
      "cell_type": "code",
      "execution_count": null,
      "metadata": {
        "id": "GouQ3ekNuaR2"
      },
      "outputs": [],
      "source": [
        "student_details = [\n",
        "  {'student_id' : 1, 'subject' : 'math', 'midterm' : 60, 'final' : 85},\n",
        "  {'student_id' : 2, 'subject' : 'math', 'midterm' : 80, 'final' : 78},\n",
        "  {'student_id' : 3, 'subject' : 'math', 'midterm' : 90, 'final' : 85}\n",
        "]\n"
      ]
    },
    {
      "cell_type": "code",
      "execution_count": null,
      "metadata": {
        "id": "E8eC0f8WuaR3"
      },
      "outputs": [],
      "source": [
        "# [] 대괄호 시작 대괄호로 끝나는 것을 리스트라고 함.\n",
        "# {} 중괄호로 시작 중괄호로 끝나는 것을 딕셔너리라고 함."
      ]
    },
    {
      "cell_type": "code",
      "execution_count": null,
      "metadata": {
        "id": "-v2UegQuuaR3",
        "outputId": "ecde1a11-42ac-4227-e697-efdfb2b4969a",
        "colab": {
          "base_uri": "https://localhost:8080/"
        }
      },
      "outputs": [
        {
          "output_type": "stream",
          "name": "stdout",
          "text": [
            "Student 1 평균점수: 72.5\n",
            "Student 2 평균점수: 79.0\n",
            "Student 3 평균점수: 87.5\n"
          ]
        }
      ],
      "source": [
        "for student in student_details:\n",
        "    avg = (student['midterm'] + student['final']) / 2\n",
        "    print(f\"Student {student['student_id']} 평균점수: {avg}\")"
      ]
    },
    {
      "cell_type": "code",
      "execution_count": null,
      "metadata": {
        "id": "fOqA3pFnuaR3"
      },
      "outputs": [],
      "source": []
    },
    {
      "cell_type": "code",
      "execution_count": null,
      "metadata": {
        "id": "e-sFevdiuaR3"
      },
      "outputs": [],
      "source": []
    },
    {
      "cell_type": "code",
      "execution_count": null,
      "metadata": {
        "id": "pR9SgqaluaR3"
      },
      "outputs": [],
      "source": []
    },
    {
      "cell_type": "code",
      "execution_count": null,
      "metadata": {
        "id": "-T9DF4vXuaR3"
      },
      "outputs": [],
      "source": []
    },
    {
      "cell_type": "markdown",
      "metadata": {
        "id": "DGU9F8SluaR3"
      },
      "source": [
        "# <font color='blue'> 3. 위에서 구한 평균점수를,\"AVERAGE\" 라는 키를 새로 만들어서, 각 학생의 딕셔너리에 추가하세요."
      ]
    },
    {
      "cell_type": "code",
      "execution_count": null,
      "metadata": {
        "id": "Nx559ZDzuaR3",
        "outputId": "698c0277-e3f4-42be-8c71-3ef5d629ff0d",
        "colab": {
          "base_uri": "https://localhost:8080/"
        }
      },
      "outputs": [
        {
          "output_type": "stream",
          "name": "stdout",
          "text": [
            "[{'student_id': 1, 'subject': 'math', 'midterm': 60, 'final': 85, 'AVERAGE': 72.5}, {'student_id': 2, 'subject': 'math', 'midterm': 80, 'final': 78, 'AVERAGE': 79.0}, {'student_id': 3, 'subject': 'math', 'midterm': 90, 'final': 85, 'AVERAGE': 87.5}]\n"
          ]
        }
      ],
      "source": [
        "for student in student_details:\n",
        "    student['AVERAGE'] = (student['midterm'] + student['final']) / 2\n",
        "\n",
        "print(student_details)"
      ]
    },
    {
      "cell_type": "code",
      "execution_count": null,
      "metadata": {
        "id": "XBDonE__uaR3"
      },
      "outputs": [],
      "source": []
    },
    {
      "cell_type": "markdown",
      "metadata": {
        "id": "qDhSuj0fuaR3"
      },
      "source": [
        "# <font color='blue'> 4. 각각의 숫자를,  제곱한 값으로 바꾸세요."
      ]
    },
    {
      "cell_type": "code",
      "execution_count": null,
      "metadata": {
        "id": "ixmX07FGuaR4",
        "outputId": "8271c978-a92a-4f36-ae68-1e7e1decbc4e",
        "colab": {
          "base_uri": "https://localhost:8080/"
        }
      },
      "outputs": [
        {
          "output_type": "stream",
          "name": "stdout",
          "text": [
            "[4, 16, 36, 64, 100]\n"
          ]
        }
      ],
      "source": [
        "numbers = [2, 4, 6, 8, 10]\n",
        "\n",
        "squared = [n**2 for n in numbers]\n",
        "print(squared)"
      ]
    },
    {
      "cell_type": "code",
      "execution_count": null,
      "metadata": {
        "id": "ZR5oCTKxuaR4"
      },
      "outputs": [],
      "source": []
    },
    {
      "cell_type": "markdown",
      "metadata": {
        "id": "Z4ae6IUruaR4"
      },
      "source": [
        "# <font color='blue'>  5. (1)모든 키를 리스트로 출력하세요. (2) 모든 밸류를 리스트로 출력하세요. (3) 모든 밸류의 값을 다 더하세요."
      ]
    },
    {
      "cell_type": "code",
      "execution_count": null,
      "metadata": {
        "id": "0acfiCl9uaR4"
      },
      "outputs": [],
      "source": [
        "my_salary = {\"alex\": 25, \"sally\": 28, \"dina\": 30}\n"
      ]
    },
    {
      "cell_type": "code",
      "execution_count": null,
      "metadata": {
        "id": "_i9qM3B1uaR4",
        "outputId": "25750dc2-aa56-4c96-b2b8-2e816f337958",
        "colab": {
          "base_uri": "https://localhost:8080/"
        }
      },
      "outputs": [
        {
          "output_type": "stream",
          "name": "stdout",
          "text": [
            "['alex', 'sally', 'dina']\n",
            "[25, 28, 30]\n",
            "83\n"
          ]
        }
      ],
      "source": [
        "my_salary = {\"alex\": 25, \"sally\": 28, \"dina\": 30}\n",
        "\n",
        "# (1) 키 리스트\n",
        "print(list(my_salary.keys()))\n",
        "\n",
        "# (2) 값 리스트\n",
        "print(list(my_salary.values()))\n",
        "\n",
        "# (3) 값 합계\n",
        "print(sum(my_salary.values()))"
      ]
    },
    {
      "cell_type": "code",
      "execution_count": null,
      "metadata": {
        "id": "q1lxE-KjuaR4"
      },
      "outputs": [],
      "source": []
    },
    {
      "cell_type": "code",
      "execution_count": null,
      "metadata": {
        "id": "Nfb6OiCRuaR4"
      },
      "outputs": [],
      "source": []
    },
    {
      "cell_type": "markdown",
      "metadata": {
        "id": "r5YvpYc-uaR4"
      },
      "source": [
        "# <font color='blue'>  6. (a)딕셔너리의 길이를 구하세요.  (b) 나이에 대한 오름차순으로 정렬하세요."
      ]
    },
    {
      "cell_type": "code",
      "execution_count": null,
      "metadata": {
        "id": "AOUpmhVYuaR4",
        "outputId": "13bd19a2-9e4f-4c0c-feb5-568ff7866cdd",
        "colab": {
          "base_uri": "https://localhost:8080/"
        }
      },
      "outputs": [
        {
          "output_type": "stream",
          "name": "stdout",
          "text": [
            "4\n",
            "{'ryan': 22, 'alex': 25, 'sally': 28, 'dina': 30}\n"
          ]
        }
      ],
      "source": [
        "people = {\"alex\": 25, \"sally\": 28, \"dina\": 30, \"ryan\": 22}\n",
        "\n",
        "# (a) 딕셔너리 길이\n",
        "print(len(people))\n",
        "\n",
        "# (b) 나이 기준 정렬\n",
        "sorted_people = dict(sorted(people.items(), key=lambda x: x[1]))\n",
        "print(sorted_people)"
      ]
    },
    {
      "cell_type": "code",
      "execution_count": null,
      "metadata": {
        "id": "LfRPTSMDuaR4"
      },
      "outputs": [],
      "source": []
    },
    {
      "cell_type": "code",
      "execution_count": null,
      "metadata": {
        "id": "1bYcySgIuaR4"
      },
      "outputs": [],
      "source": []
    },
    {
      "cell_type": "code",
      "execution_count": null,
      "metadata": {
        "id": "xWNOAEo3uaR4"
      },
      "outputs": [],
      "source": []
    },
    {
      "cell_type": "code",
      "execution_count": null,
      "metadata": {
        "id": "m4Hw83zDuaR4"
      },
      "outputs": [],
      "source": []
    },
    {
      "cell_type": "code",
      "execution_count": null,
      "metadata": {
        "id": "uEcodIyZuaR4"
      },
      "outputs": [],
      "source": []
    },
    {
      "cell_type": "code",
      "execution_count": null,
      "metadata": {
        "id": "WYsHWzQ_uaR4"
      },
      "outputs": [],
      "source": []
    },
    {
      "cell_type": "code",
      "execution_count": null,
      "metadata": {
        "id": "-KMKTKUAuaR4"
      },
      "outputs": [],
      "source": []
    }
  ],
  "metadata": {
    "kernelspec": {
      "display_name": "kdt_env",
      "language": "python",
      "name": "python3"
    },
    "language_info": {
      "codemirror_mode": {
        "name": "ipython",
        "version": 3
      },
      "file_extension": ".py",
      "mimetype": "text/x-python",
      "name": "python",
      "nbconvert_exporter": "python",
      "pygments_lexer": "ipython3",
      "version": "3.10.18"
    },
    "colab": {
      "provenance": [],
      "include_colab_link": true
    }
  },
  "nbformat": 4,
  "nbformat_minor": 0
}