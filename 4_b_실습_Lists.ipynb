{
  "cells": [
    {
      "cell_type": "markdown",
      "metadata": {
        "id": "zpaKmopBZoNQ"
      },
      "source": [
        "# <font color='red'> *실습* </font>\n",
        "# <font color='red'> LISTS </font>"
      ]
    },
    {
      "cell_type": "code",
      "execution_count": null,
      "metadata": {
        "id": "tB1gujxfZoNS"
      },
      "outputs": [],
      "source": []
    },
    {
      "cell_type": "code",
      "execution_count": null,
      "metadata": {
        "id": "_xpI7vPVZoNS"
      },
      "outputs": [],
      "source": []
    },
    {
      "cell_type": "markdown",
      "metadata": {
        "id": "uTD61NQbZoNS"
      },
      "source": [
        "# <font color='blue'> 1. 아래 이름들을, names 리스트로 만드세요.\n",
        "    \n",
        "    \"sara\", \"chanel\", \"mike\", \"ryan\", \"holy\", \"alex\", \"rob\""
      ]
    },
    {
      "cell_type": "code",
      "execution_count": 1,
      "metadata": {
        "id": "y6OjnAOWZoNS",
        "outputId": "89c91d73-13c5-41d3-b325-81186d2abd8d",
        "colab": {
          "base_uri": "https://localhost:8080/"
        }
      },
      "outputs": [
        {
          "output_type": "stream",
          "name": "stdout",
          "text": [
            "[['sara', 'chanel', 'mike', 'ryan', 'holy', 'alex', 'rob']]\n"
          ]
        }
      ],
      "source": [
        "names = [['sara', 'chanel', 'mike', 'ryan', 'holy', 'alex', 'rob'] ]\n",
        "print(names)"
      ]
    },
    {
      "cell_type": "markdown",
      "metadata": {
        "id": "I0u2UXodZoNT"
      },
      "source": [
        "# <font color='blue'> 2. 각 이름의 맨 앞자를 대문자로 바꿔서, names 리스트를 다시 만드세요.\n",
        "   "
      ]
    },
    {
      "cell_type": "code",
      "execution_count": 3,
      "metadata": {
        "id": "q6H5cRfTZoNT",
        "outputId": "09e19f74-77d9-4943-d740-e7805d49bb01",
        "colab": {
          "base_uri": "https://localhost:8080/"
        }
      },
      "outputs": [
        {
          "output_type": "stream",
          "name": "stdout",
          "text": [
            "['Sara', 'chanel', 'mike', 'ryan', 'holy', 'alex', 'rob']\n"
          ]
        }
      ],
      "source": [
        "names=['Sara', 'chanel', 'mike', 'ryan', 'holy', 'alex', 'rob']\n",
        "print(names)"
      ]
    },
    {
      "cell_type": "code",
      "source": [
        "names[0] = names[0].capitalize()\n",
        "names[1] = names[1].capitalize()\n",
        "print(names)"
      ],
      "metadata": {
        "id": "1sS4F7-RfEoD",
        "outputId": "24dc5454-4e2a-43c2-c57c-339d2dc12d2e",
        "colab": {
          "base_uri": "https://localhost:8080/"
        }
      },
      "execution_count": 5,
      "outputs": [
        {
          "output_type": "stream",
          "name": "stdout",
          "text": [
            "['Sara', 'Chanel', 'mike', 'ryan', 'holy', 'alex', 'rob']\n"
          ]
        }
      ]
    },
    {
      "cell_type": "code",
      "execution_count": 8,
      "metadata": {
        "id": "YPn2cUujZoNT",
        "outputId": "2fd8956b-cc97-4f52-e5a6-ae03c8929f71",
        "colab": {
          "base_uri": "https://localhost:8080/"
        }
      },
      "outputs": [
        {
          "output_type": "stream",
          "name": "stdout",
          "text": [
            "['Sara', 'Chanel', 'Mike', 'Ryan', 'Holy', 'Alex', 'Rob']\n"
          ]
        }
      ],
      "source": [
        "for i in range(len(names)):\n",
        "    names[i] = names[i].capitalize()\n",
        "\n",
        "print(names)"
      ]
    },
    {
      "cell_type": "code",
      "execution_count": null,
      "metadata": {
        "id": "_Zth-QZkZoNU",
        "outputId": "117c4fec-5c4d-4c09-e12f-033f0184ed93"
      },
      "outputs": [
        {
          "data": {
            "text/plain": [
              "['Sara', 'Chanel', 'Mike', 'Ryan', 'Holy', 'Alex', 'Rob']"
            ]
          },
          "execution_count": 39,
          "metadata": {},
          "output_type": "execute_result"
        }
      ],
      "source": [
        "names =\n",
        "names"
      ]
    },
    {
      "cell_type": "code",
      "execution_count": null,
      "metadata": {
        "id": "Wjtgo_ePZoNU"
      },
      "outputs": [],
      "source": []
    },
    {
      "cell_type": "markdown",
      "metadata": {
        "id": "3MSKquyMZoNU"
      },
      "source": [
        "# <font color='blue'> 3. (1)두번째 항목 출력, (2) 마지막 항목을 출력 </font>\n"
      ]
    },
    {
      "cell_type": "code",
      "execution_count": 9,
      "metadata": {
        "id": "xQioSaAJZoNU",
        "outputId": "f1eb908f-6323-4a95-eab6-3468d5e1ec88",
        "colab": {
          "base_uri": "https://localhost:8080/"
        }
      },
      "outputs": [
        {
          "output_type": "stream",
          "name": "stdout",
          "text": [
            "Chanel\n",
            "Rob\n"
          ]
        }
      ],
      "source": [
        "print(names[1])\n",
        "print(names[-1])"
      ]
    },
    {
      "cell_type": "code",
      "execution_count": null,
      "metadata": {
        "id": "uPj9bEFQZoNU",
        "outputId": "87d9d4a4-f5d9-4721-cd6d-9069d41f4eab"
      },
      "outputs": [
        {
          "data": {
            "text/plain": [
              "'Rob'"
            ]
          },
          "execution_count": 5,
          "metadata": {},
          "output_type": "execute_result"
        }
      ],
      "source": []
    },
    {
      "cell_type": "code",
      "execution_count": null,
      "metadata": {
        "id": "g78Xf5XtZoNU"
      },
      "outputs": [],
      "source": []
    },
    {
      "cell_type": "markdown",
      "metadata": {
        "id": "dJ5J51oRZoNU"
      },
      "source": [
        "# <font color='blue'> 4. \"Chanel\" \"Mike\" \"Ryan\" 항목 출력, </font>"
      ]
    },
    {
      "cell_type": "code",
      "execution_count": 11,
      "metadata": {
        "id": "JBGyyDDxZoNU",
        "outputId": "1560adbd-1f09-4376-ac1a-c71488ed113e",
        "colab": {
          "base_uri": "https://localhost:8080/"
        }
      },
      "outputs": [
        {
          "output_type": "stream",
          "name": "stdout",
          "text": [
            "['Chanel', 'Mike', 'Ryan']\n"
          ]
        }
      ],
      "source": [
        "print(names[1:4])"
      ]
    },
    {
      "cell_type": "code",
      "execution_count": null,
      "metadata": {
        "id": "9sYjCqkrZoNV",
        "outputId": "31892557-fb83-4769-bc29-c365b9ee032d"
      },
      "outputs": [
        {
          "data": {
            "text/plain": [
              "['Chanel', 'Mike', 'Ryan']"
            ]
          },
          "execution_count": 7,
          "metadata": {},
          "output_type": "execute_result"
        }
      ],
      "source": []
    },
    {
      "cell_type": "code",
      "execution_count": null,
      "metadata": {
        "collapsed": true,
        "jupyter": {
          "outputs_hidden": true
        },
        "id": "4yKzOUDrZoNV"
      },
      "outputs": [],
      "source": []
    },
    {
      "cell_type": "markdown",
      "metadata": {
        "id": "t7V1FdeUZoNV"
      },
      "source": [
        "# <font color='blue'> 5. 리스트 맨 마지막 3개 항목을 출력하기</font>"
      ]
    },
    {
      "cell_type": "code",
      "execution_count": null,
      "metadata": {
        "id": "BOTgUd04ZoNV",
        "outputId": "6ff71517-3154-4285-a5d3-29193b271ff0"
      },
      "outputs": [
        {
          "data": {
            "text/plain": [
              "['Holy', 'Alex', 'Rob']"
            ]
          },
          "execution_count": 9,
          "metadata": {},
          "output_type": "execute_result"
        }
      ],
      "source": []
    },
    {
      "cell_type": "code",
      "execution_count": 13,
      "metadata": {
        "id": "gkqMkKIOZoNV",
        "outputId": "64c3f07a-ada7-4514-e0c6-2a4cb75997aa",
        "colab": {
          "base_uri": "https://localhost:8080/"
        }
      },
      "outputs": [
        {
          "output_type": "stream",
          "name": "stdout",
          "text": [
            "['Holy', 'Alex', 'Rob']\n"
          ]
        }
      ],
      "source": [
        "print(names[-3:])"
      ]
    },
    {
      "cell_type": "code",
      "execution_count": null,
      "metadata": {
        "collapsed": true,
        "jupyter": {
          "outputs_hidden": true
        },
        "id": "KniSLYeKZoNV"
      },
      "outputs": [],
      "source": []
    },
    {
      "cell_type": "markdown",
      "metadata": {
        "id": "6pNaiyxqZoNV"
      },
      "source": [
        "# <font color='blue'> 6. 다음을 출력 (1) aly, (2) sally (3) peter, aly </font>\n"
      ]
    },
    {
      "cell_type": "code",
      "execution_count": 17,
      "metadata": {
        "id": "cIpOrinhZoNV"
      },
      "outputs": [],
      "source": [
        "my_list = [\"Mitch\", [\"sara\", \"sally\", \"joe\"], \"peter\", \"aly\"]"
      ]
    },
    {
      "cell_type": "code",
      "execution_count": 18,
      "metadata": {
        "id": "PUeqm4PQZoNV",
        "outputId": "02b486cc-b06a-48a9-9e84-9059c75223a9",
        "colab": {
          "base_uri": "https://localhost:8080/"
        }
      },
      "outputs": [
        {
          "output_type": "stream",
          "name": "stdout",
          "text": [
            "aly\n"
          ]
        }
      ],
      "source": [
        "print(my_list[-1])"
      ]
    },
    {
      "cell_type": "code",
      "execution_count": 19,
      "metadata": {
        "collapsed": true,
        "jupyter": {
          "outputs_hidden": true
        },
        "id": "avM95dTfZoNV",
        "outputId": "204388c3-a4c0-40b0-c29d-528daf2ecdb1",
        "colab": {
          "base_uri": "https://localhost:8080/"
        }
      },
      "outputs": [
        {
          "output_type": "stream",
          "name": "stdout",
          "text": [
            "sally\n"
          ]
        }
      ],
      "source": [
        "print(my_list[1][1])"
      ]
    },
    {
      "cell_type": "code",
      "source": [],
      "metadata": {
        "id": "DFJL0LIHgtW0"
      },
      "execution_count": null,
      "outputs": []
    },
    {
      "cell_type": "code",
      "source": [],
      "metadata": {
        "id": "_wIv_dFegtTD"
      },
      "execution_count": null,
      "outputs": []
    },
    {
      "cell_type": "code",
      "execution_count": 20,
      "metadata": {
        "id": "19ApEx8qZoNV",
        "outputId": "0ba7ed8d-aca7-42b2-ea73-cbbd3b76d838",
        "colab": {
          "base_uri": "https://localhost:8080/"
        }
      },
      "outputs": [
        {
          "output_type": "stream",
          "name": "stdout",
          "text": [
            "['peter', 'aly']\n"
          ]
        }
      ],
      "source": [
        "print([my_list[2], my_list[3]])"
      ]
    },
    {
      "cell_type": "markdown",
      "metadata": {
        "id": "e6o2BRD3ZoNV"
      },
      "source": [
        "# <font color='blue'> 7. 현재 리스트의 길이를 먼저 구하고, 자신의 이름을 맨 끝에 추가하세요. </font>"
      ]
    },
    {
      "cell_type": "code",
      "execution_count": 21,
      "metadata": {
        "id": "MEbRZX7RZoNV"
      },
      "outputs": [],
      "source": [
        "my_list = [\"Mitch\", [\"sara\", \"sally\", \"joe\"], \"peter\", \"aly\"]"
      ]
    },
    {
      "cell_type": "code",
      "execution_count": 22,
      "metadata": {
        "id": "Cp3cD4fMZoNV",
        "outputId": "d0f8b67d-9442-4822-fccd-2bfeb0bc5851",
        "colab": {
          "base_uri": "https://localhost:8080/"
        }
      },
      "outputs": [
        {
          "output_type": "execute_result",
          "data": {
            "text/plain": [
              "4"
            ]
          },
          "metadata": {},
          "execution_count": 22
        }
      ],
      "source": [
        "len(my_list)"
      ]
    },
    {
      "cell_type": "code",
      "execution_count": null,
      "metadata": {
        "id": "FzOOVOhNZoNV",
        "outputId": "891daa9b-d767-4139-f054-4340a9b7e0f7"
      },
      "outputs": [
        {
          "data": {
            "text/plain": [
              "['Mitch', ['sara', 'sally', 'joe'], 'peter', 'aly', 'kyongha']"
            ]
          },
          "execution_count": 17,
          "metadata": {},
          "output_type": "execute_result"
        }
      ],
      "source": [
        "\n",
        "my_list"
      ]
    },
    {
      "cell_type": "code",
      "execution_count": 23,
      "metadata": {
        "id": "LZ9bRCCtZoNV",
        "outputId": "c2b5f422-0b12-49c7-e4d4-2aaded308526",
        "colab": {
          "base_uri": "https://localhost:8080/"
        }
      },
      "outputs": [
        {
          "output_type": "stream",
          "name": "stdout",
          "text": [
            "['Mitch', ['sara', 'sally', 'joe'], 'peter', 'aly', 'kyongha']\n"
          ]
        }
      ],
      "source": [
        "my_list.append(\"kyongha\")\n",
        "print(my_list)"
      ]
    },
    {
      "cell_type": "markdown",
      "metadata": {
        "id": "r58St-rwZoNV"
      },
      "source": [
        "# <font color='blue'> 8. \"PETER\" 를 리스트에서 제거하세요. </font>\n",
        "  "
      ]
    },
    {
      "cell_type": "code",
      "execution_count": 24,
      "metadata": {
        "id": "_FRxBYQ9ZoNW"
      },
      "outputs": [],
      "source": [
        "my_list.remove(\"peter\")"
      ]
    },
    {
      "cell_type": "code",
      "source": [],
      "metadata": {
        "id": "5AwGyaxhgz4D"
      },
      "execution_count": null,
      "outputs": []
    },
    {
      "cell_type": "code",
      "execution_count": 25,
      "metadata": {
        "id": "9A52Wv-hZoNW",
        "outputId": "04ed6d3b-5c25-4f26-8014-a47afee95fd0",
        "colab": {
          "base_uri": "https://localhost:8080/"
        }
      },
      "outputs": [
        {
          "output_type": "execute_result",
          "data": {
            "text/plain": [
              "['Mitch', ['sara', 'sally', 'joe'], 'aly', 'kyongha']"
            ]
          },
          "metadata": {},
          "execution_count": 25
        }
      ],
      "source": [
        "my_list"
      ]
    },
    {
      "cell_type": "code",
      "execution_count": null,
      "metadata": {
        "id": "i0_Z6cDMZoNW"
      },
      "outputs": [],
      "source": []
    },
    {
      "cell_type": "markdown",
      "metadata": {
        "id": "7ptXy0-tZoNW"
      },
      "source": [
        "# <font color='blue'> 9. \"Mitch\" 오른쪽에 \"Mike\"를 추가하세요. </font>\n",
        "  "
      ]
    },
    {
      "cell_type": "code",
      "execution_count": null,
      "metadata": {
        "id": "rOBAM9rWZoNW",
        "outputId": "91d09c48-e51c-4ee4-ee63-e3a6d1b4efe6"
      },
      "outputs": [
        {
          "data": {
            "text/plain": [
              "['Mitch', 'Mike', ['sara', 'sally', 'joe'], 'aly', 'kyongha']"
            ]
          },
          "execution_count": 21,
          "metadata": {},
          "output_type": "execute_result"
        }
      ],
      "source": [
        "\n",
        "my_list"
      ]
    },
    {
      "cell_type": "code",
      "execution_count": 26,
      "metadata": {
        "id": "OyKudqztZoNW",
        "outputId": "d34382ff-7241-465f-b253-5a1ade5b96b1",
        "colab": {
          "base_uri": "https://localhost:8080/"
        }
      },
      "outputs": [
        {
          "output_type": "stream",
          "name": "stdout",
          "text": [
            "['Mitch', 'Mike', ['sara', 'sally', 'joe'], 'aly', 'kyongha']\n"
          ]
        }
      ],
      "source": [
        "my_list.insert(1, \"Mike\")\n",
        "print(my_list)"
      ]
    },
    {
      "cell_type": "code",
      "execution_count": null,
      "metadata": {
        "id": "6xqag_JCZoNZ"
      },
      "outputs": [],
      "source": []
    },
    {
      "cell_type": "markdown",
      "metadata": {
        "id": "KGVPM2XiZoNZ"
      },
      "source": [
        "# <font color='blue'> 10. 오름차순으로 순서대로 정렬하세요. </font>\n",
        "   \n",
        "   "
      ]
    },
    {
      "cell_type": "code",
      "execution_count": null,
      "metadata": {
        "id": "p3Ur2EoHZoNZ"
      },
      "outputs": [],
      "source": [
        "my_list = [50, 20, 30, 10, 40, 15, 45]\n",
        "\n"
      ]
    },
    {
      "cell_type": "code",
      "execution_count": 27,
      "metadata": {
        "id": "C8yiwXqOZoNZ",
        "outputId": "0df43e75-635b-4e1b-d370-eea12a0d6bb6",
        "colab": {
          "base_uri": "https://localhost:8080/"
        }
      },
      "outputs": [
        {
          "output_type": "stream",
          "name": "stdout",
          "text": [
            "[10, 15, 20, 30, 40, 45, 50]\n"
          ]
        }
      ],
      "source": [
        "my_list = [50, 20, 30, 10, 40, 15, 45]\n",
        "my_list.sort()\n",
        "print(my_list)"
      ]
    },
    {
      "cell_type": "code",
      "execution_count": null,
      "metadata": {
        "id": "i7LlKCP4ZoNZ",
        "outputId": "ff216790-d5a2-4fad-abeb-1c8f351d419c"
      },
      "outputs": [
        {
          "data": {
            "text/plain": [
              "[10, 15, 20, 30, 40, 45, 50]"
            ]
          },
          "execution_count": 25,
          "metadata": {},
          "output_type": "execute_result"
        }
      ],
      "source": [
        "my_list"
      ]
    },
    {
      "cell_type": "markdown",
      "metadata": {
        "id": "yF-bQngZZoNZ"
      },
      "source": [
        "# <font color='blue'> 11. 위 리스트를 내림차순으로 정렬하세요. </font>"
      ]
    },
    {
      "cell_type": "code",
      "execution_count": 28,
      "metadata": {
        "id": "l_zOMuRjZoNa",
        "outputId": "f6e443b7-0acc-4b90-8c44-19c0777a8f60",
        "colab": {
          "base_uri": "https://localhost:8080/"
        }
      },
      "outputs": [
        {
          "output_type": "stream",
          "name": "stdout",
          "text": [
            "[50, 45, 40, 30, 20, 15, 10]\n"
          ]
        }
      ],
      "source": [
        "my_list.sort(reverse=True)\n",
        "print(my_list)"
      ]
    },
    {
      "cell_type": "code",
      "execution_count": null,
      "metadata": {
        "id": "5k7wnQqlZoNa",
        "outputId": "d9f16034-b405-4d43-92c0-ca60ad68be2d"
      },
      "outputs": [
        {
          "data": {
            "text/plain": [
              "[50, 45, 40, 30, 20, 15, 10]"
            ]
          },
          "execution_count": 43,
          "metadata": {},
          "output_type": "execute_result"
        }
      ],
      "source": [
        "my_list"
      ]
    },
    {
      "cell_type": "code",
      "execution_count": null,
      "metadata": {
        "id": "P3yp-P3YZoNa"
      },
      "outputs": [],
      "source": []
    },
    {
      "cell_type": "markdown",
      "metadata": {
        "id": "2LLVQZ8QZoNa"
      },
      "source": [
        "# <font color='blue'> 12. 리스트 안에, 리스트들이 들어 있습니다. 안쪽 리스트들의 맨 마지막 항목들로, 새로운 리스트를 만드세요. </font>\n",
        "- chocolate, potatoes, protein bar 를 뽑아내는 코드를 작성하고, 이들을 리스트로 만듭니다.\n",
        "   "
      ]
    },
    {
      "cell_type": "code",
      "execution_count": null,
      "metadata": {
        "id": "kpXdiUwFZoNa"
      },
      "outputs": [],
      "source": [
        "grocery_list = [['chips','jelly','chocolate'],['sweet potatoes','potatoes'],['peanuts','protein bar']]\n"
      ]
    },
    {
      "cell_type": "code",
      "execution_count": 29,
      "metadata": {
        "id": "a4W3qNaYZoNa",
        "outputId": "28d14d86-fba6-448e-9284-b68301ba02b7",
        "colab": {
          "base_uri": "https://localhost:8080/"
        }
      },
      "outputs": [
        {
          "output_type": "stream",
          "name": "stdout",
          "text": [
            "['chocolate', 'potatoes', 'protein bar']\n"
          ]
        }
      ],
      "source": [
        "grocery_list = [\n",
        "    ['chips','jelly','chocolate'],\n",
        "    ['sweet potatoes','potatoes'],\n",
        "    ['peanuts','protein bar']\n",
        "]\n",
        "\n",
        "result = [grocery_list[0][-1], grocery_list[1][-1], grocery_list[2][-1]]\n",
        "print(result)"
      ]
    },
    {
      "cell_type": "code",
      "execution_count": null,
      "metadata": {
        "id": "c911WxudZoNa",
        "outputId": "d33b0746-7fe3-4181-9627-3ce1898bbead"
      },
      "outputs": [
        {
          "data": {
            "text/plain": [
              "['chocolate', 'potatoes', 'protein bar']"
            ]
          },
          "execution_count": 63,
          "metadata": {},
          "output_type": "execute_result"
        }
      ],
      "source": []
    },
    {
      "cell_type": "code",
      "execution_count": null,
      "metadata": {
        "id": "iL37l6psZoNa"
      },
      "outputs": [],
      "source": []
    },
    {
      "cell_type": "markdown",
      "metadata": {
        "id": "kx5p1ATbZoNa"
      },
      "source": [
        "# <font color='blue'> 13. 다음 문장을, 공백기준으로 잘라서, 리스트로 만드세요. 그리고 to 라는 단어가 몇개 인지 확인하세요. </font>\n",
        "- 예)   [ 'She', 'had', 'a', 'lot',,,,]\n",
        "- 문자열 부분에서 배운 함수를 참고하세요"
      ]
    },
    {
      "cell_type": "code",
      "execution_count": 30,
      "metadata": {
        "id": "y1WkvoTCZoNa"
      },
      "outputs": [],
      "source": [
        "essay = '''\"She had a lot of money. She was a generous woman. She was once poor. She understood what it was like. She wanted to help out. On Christmas day, she handed out food to the poor. She made the food herself. She put a turkey leg, a scoop of mash potatoes, and peas on a plate. She gave the plate to each homeless person she saw.\n",
        "\n",
        "The homeless people loved her. One homeless man even gave her a penny. She said to keep it for himself. She decided to do more. She gave $50 to every homeless person she saw. She felt good.\"'''"
      ]
    },
    {
      "cell_type": "code",
      "execution_count": 32,
      "metadata": {
        "id": "3p349MY_ZoNa",
        "outputId": "b4c56d0f-63dd-45e8-d966-e6e547f80ba9",
        "colab": {
          "base_uri": "https://localhost:8080/"
        }
      },
      "outputs": [
        {
          "output_type": "stream",
          "name": "stdout",
          "text": [
            "['\"she', 'had', 'a', 'lot', 'of', 'money.', 'she', 'was', 'a', 'generous', 'woman.', 'she', 'was', 'once', 'poor.']\n"
          ]
        }
      ],
      "source": [
        "words = essay.lower().split()\n",
        "print(words[:15])"
      ]
    },
    {
      "cell_type": "code",
      "execution_count": 33,
      "metadata": {
        "id": "YdJ09058ZoNa"
      },
      "outputs": [],
      "source": [
        "count_to = words.count(\"to\")"
      ]
    },
    {
      "cell_type": "code",
      "execution_count": 35,
      "metadata": {
        "id": "BED9S1oNZoNa",
        "outputId": "867b67d0-e75f-49cf-8157-005bea2d4a71",
        "colab": {
          "base_uri": "https://localhost:8080/"
        }
      },
      "outputs": [
        {
          "output_type": "stream",
          "name": "stdout",
          "text": [
            "'to'는 총 6개입니다.\n"
          ]
        }
      ],
      "source": [
        "count_to = words.count(\"to\")\n",
        "print(f\"'to'는 총 {count_to}개입니다.\")\n"
      ]
    },
    {
      "cell_type": "code",
      "source": [],
      "metadata": {
        "id": "GE5FXwbTjZDK"
      },
      "execution_count": null,
      "outputs": []
    }
  ],
  "metadata": {
    "kernelspec": {
      "display_name": "kdt_env",
      "language": "python",
      "name": "python3"
    },
    "language_info": {
      "codemirror_mode": {
        "name": "ipython",
        "version": 3
      },
      "file_extension": ".py",
      "mimetype": "text/x-python",
      "name": "python",
      "nbconvert_exporter": "python",
      "pygments_lexer": "ipython3",
      "version": "3.10.18"
    },
    "colab": {
      "provenance": []
    }
  },
  "nbformat": 4,
  "nbformat_minor": 0
}